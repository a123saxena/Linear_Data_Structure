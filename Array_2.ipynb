{
 "cells": [
  {
   "cell_type": "code",
   "execution_count": null,
   "metadata": {},
   "outputs": [],
   "source": [
    "def find_duplicates(arr):\n",
    "    arr.sort()\n",
    "    duplicates = []\n",
    "\n",
    "    for i in range(1, len(arr)):\n",
    "        if arr[i] == arr[i - 1]:\n",
    "            duplicates.append(arr[i])\n",
    "\n",
    "    return duplicates\n",
    "\n",
    "try:\n",
    "    # Input array, space-separated integers\n",
    "    arr = list(map(int, input(\"Enter the array elements separated by space: \").split()))\n",
    "\n",
    "    # Print the result\n",
    "    result = find_duplicates(arr)\n",
    "\n",
    "    if result:\n",
    "        print(f\"The duplicates in the array are: {result}\")\n",
    "    else:\n",
    "        print(\"No duplicates found in the array.\")\n",
    "\n",
    "except ValueError:\n",
    "    print(\"Invalid input. Please enter valid integers.\")\n"
   ]
  }
 ],
 "metadata": {
  "language_info": {
   "name": "python"
  }
 },
 "nbformat": 4,
 "nbformat_minor": 2
}
