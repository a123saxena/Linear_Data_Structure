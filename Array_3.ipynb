{
 "cells": [
  {
   "cell_type": "code",
   "execution_count": null,
   "metadata": {},
   "outputs": [],
   "source": [
    "def kth_largest_smallest(arr, k):\n",
    "    arr.sort()\n",
    "\n",
    "    if 1 <= k <= len(arr):\n",
    "        kth_largest = arr[-k]\n",
    "        kth_smallest = arr[k - 1]\n",
    "        return kth_largest, kth_smallest\n",
    "    else:\n",
    "        return None, None\n",
    "\n",
    "try:\n",
    "    # Input array, space-separated integers\n",
    "    arr = list(map(int, input(\"Enter the array elements separated by space: \").split()))\n",
    "\n",
    "    # Input value of K\n",
    "    k = int(input(\"Enter the value of K: \"))\n",
    "\n",
    "    # Print the result\n",
    "    result_largest, result_smallest = kth_largest_smallest(arr, k)\n",
    "\n",
    "    if result_largest is not None and result_smallest is not None:\n",
    "        print(f\"The Kth largest number is: {result_largest}\")\n",
    "        print(f\"The Kth smallest number is: {result_smallest}\")\n",
    "    else:\n",
    "        print(\"Invalid value of K. Please enter a valid value.\")\n",
    "\n",
    "except ValueError:\n",
    "    print(\"Invalid input. Please enter valid integers.\")\n"
   ]
  }
 ],
 "metadata": {
  "kernelspec": {
   "display_name": "Python 3",
   "language": "python",
   "name": "python3"
  },
  "language_info": {
   "name": "python",
   "version": "3.12.0"
  }
 },
 "nbformat": 4,
 "nbformat_minor": 2
}
