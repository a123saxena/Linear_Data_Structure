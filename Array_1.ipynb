{
 "cells": [
  {
   "cell_type": "code",
   "execution_count": null,
   "metadata": {},
   "outputs": [],
   "source": [
    "def count_pairs_with_sum(arr, target_sum):\n",
    "    arr.sort()  # Sort the array in ascending order\n",
    "    left, right = 0, len(arr) - 1  # Initialize two pointers at both ends\n",
    "    count = 0  # Initialize the count of pairs\n",
    "\n",
    "    while left < right:\n",
    "        current_sum = arr[left] + arr[right]\n",
    "\n",
    "        if current_sum == target_sum:\n",
    "            count += 1\n",
    "            left += 1\n",
    "            right -= 1\n",
    "        elif current_sum < target_sum:\n",
    "            left += 1\n",
    "        else:\n",
    "            right -= 1\n",
    "\n",
    "    return count\n",
    "\n",
    "# Take input from the user\n",
    "try:\n",
    "    # Input array, space-separated integers\n",
    "    arr = list(map(int, input(\"Enter the array elements separated by space: \").split()))\n",
    "\n",
    "    # Target sum\n",
    "    target_sum = int(input(\"Enter the target sum: \"))\n",
    "\n",
    "    result = count_pairs_with_sum(arr, target_sum)\n",
    "    print(f\"The number of pairs with the given sum is: {result}\")\n",
    "\n",
    "except ValueError:\n",
    "    print(\"Invalid input. Please enter valid integers.\")\n"
   ]
  }
 ],
 "metadata": {
  "kernelspec": {
   "display_name": "Python 3",
   "language": "python",
   "name": "python3"
  },
  "language_info": {
   "name": "python",
   "version": "3.12.0"
  }
 },
 "nbformat": 4,
 "nbformat_minor": 2
}
