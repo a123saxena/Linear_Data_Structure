{
 "cells": [
  {
   "cell_type": "code",
   "execution_count": null,
   "metadata": {},
   "outputs": [],
   "source": [
    "def move_negatives_to_one_side(arr):\n",
    "    n = len(arr)\n",
    "    left, right = 0, n - 1\n",
    "\n",
    "    while left <= right:\n",
    "        if arr[left] < 0 and arr[right] < 0:\n",
    "            left += 1\n",
    "        elif arr[left] > 0 and arr[right] < 0:\n",
    "            arr[left], arr[right] = arr[right], arr[left]\n",
    "            left += 1\n",
    "            right -= 1\n",
    "        elif arr[left] > 0 and arr[right] > 0:\n",
    "            right -= 1\n",
    "        else:\n",
    "            left += 1\n",
    "            right -= 1\n",
    "\n",
    "    return arr\n",
    "\n",
    "try:\n",
    "    # Input array, space-separated integers\n",
    "    arr = list(map(int, input(\"Enter the array elements separated by space: \").split()))\n",
    "\n",
    "    result = move_negatives_to_one_side(arr)\n",
    "    print(\"Array after moving negative elements to one side:\", result)\n",
    "\n",
    "except ValueError:\n",
    "    print(\"Invalid input. Please enter valid integers.\")\n"
   ]
  }
 ],
 "metadata": {
  "kernelspec": {
   "display_name": "Python 3",
   "language": "python",
   "name": "python3"
  },
  "language_info": {
   "name": "python",
   "version": "3.12.0"
  }
 },
 "nbformat": 4,
 "nbformat_minor": 2
}
